{
 "cells": [
  {
   "cell_type": "markdown",
   "id": "fb346742",
   "metadata": {},
   "source": [
    "Deep Neural Networks PyTorch"
   ]
  },
  {
   "cell_type": "markdown",
   "id": "d11c4ad1",
   "metadata": {},
   "source": [
    "Classical machine learning relies on using statistics to determine relationships between features and labels, and can be very effective for creating predictive models. However, a massive growth in the availability of data coupled with advances in the computing technology required to process it has led to the emergence of new machine learning techniques that mimic the way the brain processes information in a structure called an artificial neural network.\n",
    "\n",
    "PyTorch is a framework for creating machine learning models, including deep neural networks (DNNs). In this example, we'll use PyTorch to create a simple neural network that classifies penguins into species based on the length and depth of their culmen (bill), their flipper length, and their body mass."
   ]
  },
  {
   "cell_type": "markdown",
   "id": "c4e83ad1",
   "metadata": {},
   "source": [
    "Explore the Dataset"
   ]
  },
  {
   "cell_type": "code",
   "execution_count": 5,
   "id": "441f5560",
   "metadata": {},
   "outputs": [
    {
     "name": "stderr",
     "output_type": "stream",
     "text": [
      "C:\\Users\\MANDEE~1\\AppData\\Local\\Temp/ipykernel_7344/1796724258.py:9: FutureWarning: The frame.append method is deprecated and will be removed from pandas in a future version. Use pandas.concat instead.\n",
      "  penguins = penguins.append(penguins)\n",
      "C:\\Users\\MANDEE~1\\AppData\\Local\\Temp/ipykernel_7344/1796724258.py:9: FutureWarning: The frame.append method is deprecated and will be removed from pandas in a future version. Use pandas.concat instead.\n",
      "  penguins = penguins.append(penguins)\n"
     ]
    },
    {
     "data": {
      "text/html": [
       "<div>\n",
       "<style scoped>\n",
       "    .dataframe tbody tr th:only-of-type {\n",
       "        vertical-align: middle;\n",
       "    }\n",
       "\n",
       "    .dataframe tbody tr th {\n",
       "        vertical-align: top;\n",
       "    }\n",
       "\n",
       "    .dataframe thead th {\n",
       "        text-align: right;\n",
       "    }\n",
       "</style>\n",
       "<table border=\"1\" class=\"dataframe\">\n",
       "  <thead>\n",
       "    <tr style=\"text-align: right;\">\n",
       "      <th></th>\n",
       "      <th>CulmenLength</th>\n",
       "      <th>CulmenDepth</th>\n",
       "      <th>FlipperLength</th>\n",
       "      <th>BodyMass</th>\n",
       "      <th>Species</th>\n",
       "    </tr>\n",
       "  </thead>\n",
       "  <tbody>\n",
       "    <tr>\n",
       "      <th>170</th>\n",
       "      <td>46.2</td>\n",
       "      <td>14.5</td>\n",
       "      <td>20.9</td>\n",
       "      <td>48.0</td>\n",
       "      <td>1</td>\n",
       "    </tr>\n",
       "    <tr>\n",
       "      <th>1</th>\n",
       "      <td>39.5</td>\n",
       "      <td>17.4</td>\n",
       "      <td>18.6</td>\n",
       "      <td>38.0</td>\n",
       "      <td>0</td>\n",
       "    </tr>\n",
       "    <tr>\n",
       "      <th>160</th>\n",
       "      <td>43.3</td>\n",
       "      <td>13.4</td>\n",
       "      <td>20.9</td>\n",
       "      <td>44.0</td>\n",
       "      <td>1</td>\n",
       "    </tr>\n",
       "    <tr>\n",
       "      <th>209</th>\n",
       "      <td>45.5</td>\n",
       "      <td>15.0</td>\n",
       "      <td>22.0</td>\n",
       "      <td>50.0</td>\n",
       "      <td>1</td>\n",
       "    </tr>\n",
       "    <tr>\n",
       "      <th>185</th>\n",
       "      <td>59.6</td>\n",
       "      <td>17.0</td>\n",
       "      <td>23.0</td>\n",
       "      <td>60.5</td>\n",
       "      <td>1</td>\n",
       "    </tr>\n",
       "    <tr>\n",
       "      <th>168</th>\n",
       "      <td>42.0</td>\n",
       "      <td>13.5</td>\n",
       "      <td>21.0</td>\n",
       "      <td>41.5</td>\n",
       "      <td>1</td>\n",
       "    </tr>\n",
       "    <tr>\n",
       "      <th>194</th>\n",
       "      <td>45.3</td>\n",
       "      <td>13.7</td>\n",
       "      <td>21.0</td>\n",
       "      <td>43.0</td>\n",
       "      <td>1</td>\n",
       "    </tr>\n",
       "    <tr>\n",
       "      <th>132</th>\n",
       "      <td>36.8</td>\n",
       "      <td>18.5</td>\n",
       "      <td>19.3</td>\n",
       "      <td>35.0</td>\n",
       "      <td>0</td>\n",
       "    </tr>\n",
       "    <tr>\n",
       "      <th>63</th>\n",
       "      <td>41.1</td>\n",
       "      <td>18.2</td>\n",
       "      <td>19.2</td>\n",
       "      <td>40.5</td>\n",
       "      <td>0</td>\n",
       "    </tr>\n",
       "    <tr>\n",
       "      <th>261</th>\n",
       "      <td>48.1</td>\n",
       "      <td>15.1</td>\n",
       "      <td>20.9</td>\n",
       "      <td>55.0</td>\n",
       "      <td>1</td>\n",
       "    </tr>\n",
       "  </tbody>\n",
       "</table>\n",
       "</div>"
      ],
      "text/plain": [
       "     CulmenLength  CulmenDepth  FlipperLength  BodyMass  Species\n",
       "170          46.2         14.5           20.9      48.0        1\n",
       "1            39.5         17.4           18.6      38.0        0\n",
       "160          43.3         13.4           20.9      44.0        1\n",
       "209          45.5         15.0           22.0      50.0        1\n",
       "185          59.6         17.0           23.0      60.5        1\n",
       "168          42.0         13.5           21.0      41.5        1\n",
       "194          45.3         13.7           21.0      43.0        1\n",
       "132          36.8         18.5           19.3      35.0        0\n",
       "63           41.1         18.2           19.2      40.5        0\n",
       "261          48.1         15.1           20.9      55.0        1"
      ]
     },
     "execution_count": 5,
     "metadata": {},
     "output_type": "execute_result"
    }
   ],
   "source": [
    "import pandas as pd\n",
    "\n",
    "penguins = pd.read_csv('penguins.csv').dropna()\n",
    "\n",
    "penguins['FlipperLength'] = penguins['FlipperLength']/10\n",
    "penguins['BodyMass'] = penguins['BodyMass']/100\n",
    "\n",
    "for i in range(1,3):\n",
    "    penguins = penguins.append(penguins)\n",
    "    \n",
    "sample = penguins.sample(10)\n",
    "sample"
   ]
  },
  {
   "cell_type": "code",
   "execution_count": 7,
   "id": "56988059",
   "metadata": {},
   "outputs": [
    {
     "name": "stdout",
     "output_type": "stream",
     "text": [
      "['CulmenLength' 'CulmenDepth' 'FlipperLength' 'BodyMass' 'Species'] SpeciesName\n",
      "[ 54.3 15.7 23.1 56.5 1 ] Gentoo\n",
      "[ 50.7 19.7 20.3 40.5 2 ] Chinstrap\n",
      "[ 34.5 18.1 18.7 29.0 0 ] Adelie\n",
      "[ 50.0 16.3 23.0 57.0 1 ] Gentoo\n",
      "[ 52.7 19.8 19.7 37.25 2 ] Chinstrap\n",
      "[ 42.8 18.5 19.5 42.5 0 ] Adelie\n",
      "[ 40.6 17.2 18.7 34.75 0 ] Adelie\n",
      "[ 36.0 17.9 19.0 34.5 0 ] Adelie\n",
      "[ 49.4 15.8 21.6 49.25 1 ] Gentoo\n",
      "[ 38.6 17.2 19.9 37.5 0 ] Adelie\n"
     ]
    }
   ],
   "source": [
    "penguin_classes = ['Adelie', 'Gentoo', 'Chinstrap']\n",
    "print(sample.columns[0:5].values, 'SpeciesName')\n",
    "for index, row in penguins.sample(10).iterrows():\n",
    "    print('[', row[0], row[1], row[2], row[3], int(row[4]), ']', penguin_classes[int(row[-1])])"
   ]
  },
  {
   "cell_type": "code",
   "execution_count": 9,
   "id": "9080a41c",
   "metadata": {},
   "outputs": [
    {
     "name": "stdout",
     "output_type": "stream",
     "text": [
      "Training Set: 957, Test Set: 411 \n",
      "\n",
      "Sample of features and labels:\n",
      "[51.1 16.5 22.5 52.5] 1 (Gentoo)\n",
      "[50.7 19.7 20.3 40.5] 2 (Chinstrap)\n",
      "[49.5 16.2 22.9 58. ] 1 (Gentoo)\n",
      "[39.3 20.6 19.  36.5] 0 (Adelie)\n",
      "[42.5 20.7 19.7 45. ] 0 (Adelie)\n",
      "[50.  15.3 22.  55.5] 1 (Gentoo)\n",
      "[50.2  18.7  19.8  37.75] 2 (Chinstrap)\n",
      "[50.7 19.7 20.3 40.5] 2 (Chinstrap)\n",
      "[49.1  14.5  21.2  46.25] 1 (Gentoo)\n",
      "[43.2 16.6 18.7 29. ] 2 (Chinstrap)\n",
      "[38.8  17.6  19.1  32.75] 0 (Adelie)\n",
      "[37.8 17.1 18.6 33. ] 0 (Adelie)\n",
      "[45.8 14.2 21.9 47. ] 1 (Gentoo)\n",
      "[43.8 13.9 20.8 43. ] 1 (Gentoo)\n",
      "[36.  17.1 18.7 37. ] 0 (Adelie)\n",
      "[43.3 13.4 20.9 44. ] 1 (Gentoo)\n",
      "[36.  18.5 18.6 31. ] 0 (Adelie)\n",
      "[41.1  19.   18.2  34.25] 0 (Adelie)\n",
      "[33.1 16.1 17.8 29. ] 0 (Adelie)\n",
      "[40.9 13.7 21.4 46.5] 1 (Gentoo)\n",
      "[45.2 17.8 19.8 39.5] 2 (Chinstrap)\n",
      "[48.4 14.6 21.3 58.5] 1 (Gentoo)\n",
      "[43.6 13.9 21.7 49. ] 1 (Gentoo)\n",
      "[38.5  17.9  19.   33.25] 0 (Adelie)\n"
     ]
    }
   ],
   "source": [
    "from sklearn.model_selection import train_test_split\n",
    "\n",
    "features = ['CulmenLength', 'CulmenDepth', 'FlipperLength', 'BodyMass']\n",
    "label = 'Species'\n",
    "\n",
    "X_train, X_test, y_train, y_test = train_test_split(penguins[features].values,\n",
    "                                                   penguins[label].values,\n",
    "                                                   test_size=0.30,\n",
    "                                                   random_state=0)\n",
    "\n",
    "print('Training Set: %d, Test Set: %d \\n' % (len(X_train), len(X_test)))\n",
    "print('Sample of features and labels:')\n",
    "\n",
    "for n in range(0,24):\n",
    "    print(X_train[n], y_train[n], '(' + penguin_classes[y_train[n]] + ')')"
   ]
  },
  {
   "cell_type": "markdown",
   "id": "f5c88569",
   "metadata": {},
   "source": [
    "Install and import the PyTorch libraries"
   ]
  },
  {
   "cell_type": "code",
   "execution_count": 11,
   "id": "226f0fce",
   "metadata": {
    "scrolled": true
   },
   "outputs": [
    {
     "name": "stdout",
     "output_type": "stream",
     "text": [
      "Collecting torch\n",
      "  Using cached torch-1.13.1-cp39-cp39-win_amd64.whl (162.5 MB)\n",
      "Collecting torchvision\n",
      "  Using cached torchvision-0.14.1-cp39-cp39-win_amd64.whl (1.1 MB)\n",
      "Collecting torchaudio\n",
      "  Using cached torchaudio-0.13.1-cp39-cp39-win_amd64.whl (2.0 MB)\n",
      "Collecting typing-extensions\n",
      "  Downloading typing_extensions-4.4.0-py3-none-any.whl (26 kB)\n",
      "Requirement already satisfied: pillow!=8.3.*,>=5.3.0 in c:\\programdata\\miniconda3\\lib\\site-packages (from torchvision) (9.4.0)\n",
      "Requirement already satisfied: numpy in c:\\programdata\\miniconda3\\lib\\site-packages (from torchvision) (1.24.1)\n",
      "Requirement already satisfied: requests in c:\\programdata\\miniconda3\\lib\\site-packages (from torchvision) (2.25.1)\n",
      "Requirement already satisfied: urllib3<1.27,>=1.21.1 in c:\\programdata\\miniconda3\\lib\\site-packages (from requests->torchvision) (1.26.6)\n",
      "Requirement already satisfied: idna<3,>=2.5 in c:\\programdata\\miniconda3\\lib\\site-packages (from requests->torchvision) (2.10)\n",
      "Requirement already satisfied: chardet<5,>=3.0.2 in c:\\programdata\\miniconda3\\lib\\site-packages (from requests->torchvision) (4.0.0)\n",
      "Requirement already satisfied: certifi>=2017.4.17 in c:\\users\\mandeep matharu\\appdata\\roaming\\python\\python39\\site-packages (from requests->torchvision) (2021.5.30)\n",
      "Installing collected packages: typing-extensions, torch, torchvision, torchaudio\n",
      "Successfully installed torch-1.13.1 torchaudio-0.13.1 torchvision-0.14.1 typing-extensions-4.4.0\n"
     ]
    }
   ],
   "source": [
    "!pip install torch torchvision torchaudio"
   ]
  },
  {
   "cell_type": "code",
   "execution_count": 12,
   "id": "3bc1566a",
   "metadata": {},
   "outputs": [
    {
     "name": "stdout",
     "output_type": "stream",
     "text": [
      "Libraries imported - ready to use PyTorch 1.13.1+cpu\n"
     ]
    }
   ],
   "source": [
    "import torch\n",
    "import torch.nn as nn\n",
    "import torch.utils.data as td\n",
    "\n",
    "torch.manual_seed(0)\n",
    "\n",
    "print('Libraries imported - ready to use PyTorch', torch.__version__)"
   ]
  },
  {
   "cell_type": "markdown",
   "id": "ba8afb38",
   "metadata": {},
   "source": [
    "Prepare the data for PyTorch"
   ]
  },
  {
   "cell_type": "code",
   "execution_count": 14,
   "id": "8d335faa",
   "metadata": {},
   "outputs": [
    {
     "name": "stdout",
     "output_type": "stream",
     "text": [
      "Ready to load data\n"
     ]
    }
   ],
   "source": [
    "#Create a dataset and loader for the training data and labels\n",
    "train_x = torch.Tensor(X_train).float()\n",
    "train_y = torch.Tensor(y_train).long()\n",
    "train_ds = td.TensorDataset(train_x, train_y)\n",
    "train_loader = td.DataLoader(train_ds, batch_size=20,\n",
    "    shuffle=False, num_workers=1)\n",
    "\n",
    "#Create a dataset and loader for the testing data and labels\n",
    "test_x = torch.Tensor(X_test).float()\n",
    "test_y = torch.Tensor(y_test).long()\n",
    "test_ds = td.TensorDataset(test_x,test_y)\n",
    "test_loader = td.DataLoader(test_ds, batch_size=20,\n",
    "    shuffle=False, num_workers=1)\n",
    "print('Ready to load data')"
   ]
  },
  {
   "cell_type": "markdown",
   "id": "7a8a888e",
   "metadata": {},
   "source": [
    "Define a neural network"
   ]
  },
  {
   "cell_type": "code",
   "execution_count": 18,
   "id": "9c59924b",
   "metadata": {},
   "outputs": [
    {
     "name": "stdout",
     "output_type": "stream",
     "text": [
      "PenguinNet(\n",
      "  (fc1): Linear(in_features=4, out_features=10, bias=True)\n",
      "  (fc2): Linear(in_features=10, out_features=10, bias=True)\n",
      "  (fc3): Linear(in_features=10, out_features=3, bias=True)\n",
      ")\n"
     ]
    }
   ],
   "source": [
    "#Number of hidden layer nodes\n",
    "hl = 10\n",
    "\n",
    "#Define the neural network\n",
    "class PenguinNet(nn.Module):\n",
    "    def __init__(self):\n",
    "        super(PenguinNet, self).__init__()\n",
    "        self.fc1 = nn.Linear(len(features), hl)\n",
    "        self.fc2 = nn.Linear(hl, hl)\n",
    "        self.fc3 = nn.Linear(hl, len(penguin_classes))\n",
    "        \n",
    "    def forward(self, x):\n",
    "        x = torch.relu(self.fc1(x))\n",
    "        x = torch.relu(self.fc2(x))\n",
    "        x = torch.relu(self.fc3(x))\n",
    "        return x\n",
    "\n",
    "#Create a model instance from the network\n",
    "model = PenguinNet()\n",
    "print(model)"
   ]
  },
  {
   "cell_type": "markdown",
   "id": "e253589b",
   "metadata": {},
   "source": [
    "Train the model"
   ]
  },
  {
   "cell_type": "code",
   "execution_count": 19,
   "id": "43699f08",
   "metadata": {},
   "outputs": [
    {
     "name": "stdout",
     "output_type": "stream",
     "text": [
      "Epoch: 1\n",
      "Training set: Average loss: 1.217647\n",
      "Validation set: Average loss: 1.088032, Accuracy: 174/411 (42%)\n",
      "\n",
      "Epoch: 2\n",
      "Training set: Average loss: 1.068396\n",
      "Validation set: Average loss: 1.069931, Accuracy: 174/411 (42%)\n",
      "\n",
      "Epoch: 3\n",
      "Training set: Average loss: 1.050276\n",
      "Validation set: Average loss: 1.052078, Accuracy: 174/411 (42%)\n",
      "\n",
      "Epoch: 4\n",
      "Training set: Average loss: 1.028332\n",
      "Validation set: Average loss: 1.026955, Accuracy: 174/411 (42%)\n",
      "\n",
      "Epoch: 5\n",
      "Training set: Average loss: 0.979634\n",
      "Validation set: Average loss: 0.921477, Accuracy: 275/411 (67%)\n",
      "\n",
      "Epoch: 6\n",
      "Training set: Average loss: 0.829697\n",
      "Validation set: Average loss: 0.783960, Accuracy: 295/411 (72%)\n",
      "\n",
      "Epoch: 7\n",
      "Training set: Average loss: 0.712835\n",
      "Validation set: Average loss: 0.689674, Accuracy: 301/411 (73%)\n",
      "\n",
      "Epoch: 8\n",
      "Training set: Average loss: 0.629350\n",
      "Validation set: Average loss: 0.616403, Accuracy: 305/411 (74%)\n",
      "\n",
      "Epoch: 9\n",
      "Training set: Average loss: 0.564227\n",
      "Validation set: Average loss: 0.559889, Accuracy: 310/411 (75%)\n",
      "\n",
      "Epoch: 10\n",
      "Training set: Average loss: 0.511277\n",
      "Validation set: Average loss: 0.514328, Accuracy: 310/411 (75%)\n",
      "\n",
      "Epoch: 11\n",
      "Training set: Average loss: 0.466775\n",
      "Validation set: Average loss: 0.477924, Accuracy: 312/411 (76%)\n",
      "\n",
      "Epoch: 12\n",
      "Training set: Average loss: 0.430128\n",
      "Validation set: Average loss: 0.448309, Accuracy: 317/411 (77%)\n",
      "\n",
      "Epoch: 13\n",
      "Training set: Average loss: 0.399630\n",
      "Validation set: Average loss: 0.418891, Accuracy: 319/411 (78%)\n",
      "\n",
      "Epoch: 14\n",
      "Training set: Average loss: 0.374083\n",
      "Validation set: Average loss: 0.398471, Accuracy: 321/411 (78%)\n",
      "\n",
      "Epoch: 15\n",
      "Training set: Average loss: 0.353191\n",
      "Validation set: Average loss: 0.377082, Accuracy: 321/411 (78%)\n",
      "\n",
      "Epoch: 16\n",
      "Training set: Average loss: 0.335363\n",
      "Validation set: Average loss: 0.359769, Accuracy: 321/411 (78%)\n",
      "\n",
      "Epoch: 17\n",
      "Training set: Average loss: 0.321829\n",
      "Validation set: Average loss: 0.348680, Accuracy: 321/411 (78%)\n",
      "\n",
      "Epoch: 18\n",
      "Training set: Average loss: 0.310326\n",
      "Validation set: Average loss: 0.340359, Accuracy: 321/411 (78%)\n",
      "\n",
      "Epoch: 19\n",
      "Training set: Average loss: 0.300599\n",
      "Validation set: Average loss: 0.332544, Accuracy: 321/411 (78%)\n",
      "\n",
      "Epoch: 20\n",
      "Training set: Average loss: 0.293232\n",
      "Validation set: Average loss: 0.325757, Accuracy: 321/411 (78%)\n",
      "\n",
      "Epoch: 21\n",
      "Training set: Average loss: 0.287252\n",
      "Validation set: Average loss: 0.318683, Accuracy: 321/411 (78%)\n",
      "\n",
      "Epoch: 22\n",
      "Training set: Average loss: 0.281975\n",
      "Validation set: Average loss: 0.312919, Accuracy: 321/411 (78%)\n",
      "\n",
      "Epoch: 23\n",
      "Training set: Average loss: 0.277632\n",
      "Validation set: Average loss: 0.309581, Accuracy: 321/411 (78%)\n",
      "\n",
      "Epoch: 24\n",
      "Training set: Average loss: 0.273758\n",
      "Validation set: Average loss: 0.308183, Accuracy: 321/411 (78%)\n",
      "\n",
      "Epoch: 25\n",
      "Training set: Average loss: 0.270803\n",
      "Validation set: Average loss: 0.302621, Accuracy: 322/411 (78%)\n",
      "\n",
      "Epoch: 26\n",
      "Training set: Average loss: 0.267948\n",
      "Validation set: Average loss: 0.299031, Accuracy: 321/411 (78%)\n",
      "\n",
      "Epoch: 27\n",
      "Training set: Average loss: 0.265368\n",
      "Validation set: Average loss: 0.297187, Accuracy: 322/411 (78%)\n",
      "\n",
      "Epoch: 28\n",
      "Training set: Average loss: 0.263240\n",
      "Validation set: Average loss: 0.292817, Accuracy: 322/411 (78%)\n",
      "\n",
      "Epoch: 29\n",
      "Training set: Average loss: 0.260683\n",
      "Validation set: Average loss: 0.288914, Accuracy: 322/411 (78%)\n",
      "\n",
      "Epoch: 30\n",
      "Training set: Average loss: 0.258681\n",
      "Validation set: Average loss: 0.285710, Accuracy: 322/411 (78%)\n",
      "\n",
      "Epoch: 31\n",
      "Training set: Average loss: 0.256739\n",
      "Validation set: Average loss: 0.282828, Accuracy: 322/411 (78%)\n",
      "\n",
      "Epoch: 32\n",
      "Training set: Average loss: 0.254644\n",
      "Validation set: Average loss: 0.280993, Accuracy: 322/411 (78%)\n",
      "\n",
      "Epoch: 33\n",
      "Training set: Average loss: 0.252873\n",
      "Validation set: Average loss: 0.279047, Accuracy: 322/411 (78%)\n",
      "\n",
      "Epoch: 34\n",
      "Training set: Average loss: 0.251241\n",
      "Validation set: Average loss: 0.276939, Accuracy: 322/411 (78%)\n",
      "\n",
      "Epoch: 35\n",
      "Training set: Average loss: 0.249421\n",
      "Validation set: Average loss: 0.276995, Accuracy: 322/411 (78%)\n",
      "\n",
      "Epoch: 36\n",
      "Training set: Average loss: 0.248097\n",
      "Validation set: Average loss: 0.276254, Accuracy: 322/411 (78%)\n",
      "\n",
      "Epoch: 37\n",
      "Training set: Average loss: 0.246888\n",
      "Validation set: Average loss: 0.274568, Accuracy: 322/411 (78%)\n",
      "\n",
      "Epoch: 38\n",
      "Training set: Average loss: 0.245543\n",
      "Validation set: Average loss: 0.273765, Accuracy: 322/411 (78%)\n",
      "\n",
      "Epoch: 39\n",
      "Training set: Average loss: 0.244483\n",
      "Validation set: Average loss: 0.272687, Accuracy: 322/411 (78%)\n",
      "\n",
      "Epoch: 40\n",
      "Training set: Average loss: 0.243463\n",
      "Validation set: Average loss: 0.271343, Accuracy: 322/411 (78%)\n",
      "\n",
      "Epoch: 41\n",
      "Training set: Average loss: 0.242603\n",
      "Validation set: Average loss: 0.269701, Accuracy: 322/411 (78%)\n",
      "\n",
      "Epoch: 42\n",
      "Training set: Average loss: 0.241789\n",
      "Validation set: Average loss: 0.268661, Accuracy: 322/411 (78%)\n",
      "\n",
      "Epoch: 43\n",
      "Training set: Average loss: 0.240950\n",
      "Validation set: Average loss: 0.267473, Accuracy: 322/411 (78%)\n",
      "\n",
      "Epoch: 44\n",
      "Training set: Average loss: 0.240114\n",
      "Validation set: Average loss: 0.265823, Accuracy: 322/411 (78%)\n",
      "\n",
      "Epoch: 45\n",
      "Training set: Average loss: 0.239343\n",
      "Validation set: Average loss: 0.264248, Accuracy: 322/411 (78%)\n",
      "\n",
      "Epoch: 46\n",
      "Training set: Average loss: 0.238420\n",
      "Validation set: Average loss: 0.264158, Accuracy: 322/411 (78%)\n",
      "\n",
      "Epoch: 47\n",
      "Training set: Average loss: 0.238158\n",
      "Validation set: Average loss: 0.263549, Accuracy: 322/411 (78%)\n",
      "\n",
      "Epoch: 48\n",
      "Training set: Average loss: 0.237672\n",
      "Validation set: Average loss: 0.262749, Accuracy: 322/411 (78%)\n",
      "\n",
      "Epoch: 49\n",
      "Training set: Average loss: 0.237086\n",
      "Validation set: Average loss: 0.261945, Accuracy: 322/411 (78%)\n",
      "\n",
      "Epoch: 50\n",
      "Training set: Average loss: 0.236309\n",
      "Validation set: Average loss: 0.261504, Accuracy: 322/411 (78%)\n",
      "\n"
     ]
    }
   ],
   "source": [
    "def train(model, data_loader, optimiser):\n",
    "    #Set the model to training mode\n",
    "    model.train()\n",
    "    train_loss = 0\n",
    "    \n",
    "    for batch, tensor in enumerate(data_loader):\n",
    "        data, target = tensor\n",
    "        #feedforward\n",
    "        optimiser.zero_grad()\n",
    "        out = model(data)\n",
    "        loss = loss_criteria(out, target)\n",
    "        train_loss += loss.item()\n",
    "        \n",
    "        #backpropagate\n",
    "        loss.backward()\n",
    "        optimiser.step()\n",
    "        \n",
    "    #Return average loss\n",
    "    avg_loss = train_loss/(batch+1)\n",
    "    print('Training set: Average loss: {:.6f}'.format(avg_loss))\n",
    "    return avg_loss\n",
    "\n",
    "def test(model, data_loader):\n",
    "    #Switch the model to evaluation mode (so we don't backpropagate)\n",
    "    model.eval()\n",
    "    test_loss = 0\n",
    "    correct = 0\n",
    "    \n",
    "    with torch.no_grad():\n",
    "        batch_count = 0\n",
    "        for batch, tensor in enumerate(data_loader):\n",
    "            batch_count += 1\n",
    "            data, target = tensor\n",
    "            #Get the predictions\n",
    "            out = model(data)\n",
    "            \n",
    "            #calculate the loss\n",
    "            test_loss += loss_criteria(out, target).item()\n",
    "            \n",
    "            #Calculate the accuracy\n",
    "            _, predicted = torch.max(out.data, 1)\n",
    "            correct += torch.sum(target==predicted).item()\n",
    "            \n",
    "    #Calculate the average loss and total accuracy for this epoch\n",
    "    avg_loss = test_loss/batch_count\n",
    "    print('Validation set: Average loss: {:.6f}, Accuracy: {}/{} ({:.0f}%)\\n'.format(\n",
    "        avg_loss, correct, len(data_loader.dataset),\n",
    "        100. * correct/len(data_loader.dataset)))\n",
    "    \n",
    "    #return average loss for the epoch\n",
    "    return avg_loss\n",
    "\n",
    "#Specify the loss criteria (we'll use CrossEntropyLoss for multi-class classification)\n",
    "loss_criteria = nn.CrossEntropyLoss()\n",
    "\n",
    "#Use an 'Adam' optimiser to adjust weights\n",
    "# (see https://pytorch.org/docs/stable/optim.html#algorithms for details of supported algorithms)\n",
    "learning_rate = 0.001\n",
    "optimiser = torch.optim.Adam(model.parameters(), lr=learning_rate)\n",
    "optimiser.zero_grad()\n",
    "\n",
    "#We'll track metrics for each epoch in these arrays\n",
    "epoch_nums = []\n",
    "training_loss = []\n",
    "validation_loss = []\n",
    "\n",
    "#Train over 50 epochs\n",
    "epochs = 50\n",
    "for epoch in range(1, epochs+1):\n",
    "    \n",
    "    #print the epoch number\n",
    "    print('Epoch: {}'.format(epoch))\n",
    "    \n",
    "    #Feed training data into the model to optimise the weights\n",
    "    train_loss = train(model, train_loader, optimiser)\n",
    "    \n",
    "    #Feed the test data into the model to check its performance\n",
    "    test_loss = test(model, test_loader)\n",
    "    \n",
    "    #Log the metrics for this epoch\n",
    "    epoch_nums.append(epoch)\n",
    "    training_loss.append(train_loss)\n",
    "    validation_loss.append(test_loss)\n",
    "    \n",
    "    \n",
    "    "
   ]
  },
  {
   "cell_type": "markdown",
   "id": "dbfc7beb",
   "metadata": {},
   "source": [
    "Review training and validation loss"
   ]
  },
  {
   "cell_type": "code",
   "execution_count": 20,
   "id": "05c83955",
   "metadata": {},
   "outputs": [
    {
     "data": {
      "image/png": "[encoded data removed]",
      "text/plain": [
       "<Figure size 432x288 with 1 Axes>"
      ]
     },
     "metadata": {
      "needs_background": "light"
     },
     "output_type": "display_data"
    }
   ],
   "source": [
    "from matplotlib import pyplot as plt\n",
    "%matplotlib inline\n",
    "\n",
    "plt.plot(epoch_nums, training_loss)\n",
    "plt.plot(epoch_nums, validation_loss)\n",
    "plt.xlabel('epoch')\n",
    "plt.ylabel('loss')\n",
    "plt.legend(['training', 'validation'], loc='upper right')\n",
    "plt.show()"
   ]
  },
  {
   "cell_type": "markdown",
   "id": "e68db69f",
   "metadata": {},
   "source": [
    "View the learned weights and biases"
   ]
  },
  {
   "cell_type": "code",
   "execution_count": 22,
   "id": "94b52331",
   "metadata": {},
   "outputs": [
    {
     "name": "stdout",
     "output_type": "stream",
     "text": [
      "fc1.weight \n",
      " [[-0.02278294  0.1771208  -0.3227539   0.47124088]\n",
      " [-0.4134612   0.00689125 -0.08500838 -0.26333648]\n",
      " [ 0.06608552  0.41345936 -0.14615977 -0.29684705]\n",
      " [-0.18491942 -0.49557418  0.22569698 -0.24013186]\n",
      " [-0.35189515 -0.3065054   0.26925105  0.24607432]\n",
      " [ 0.46911356  0.1253667  -0.34137928 -0.26739663]\n",
      " [-0.10806599  0.9226123   0.16609745 -0.2555866 ]\n",
      " [-0.2350387  -0.4727345   0.108024   -0.28059125]\n",
      " [-0.4457879   0.43843824 -0.3247056  -0.05688077]\n",
      " [ 0.14324677  0.01592916 -0.33644086 -0.40416086]]\n",
      "fc1.bias \n",
      " [ 0.53491724  0.08141935  0.41481227 -0.1676203   0.12921287 -0.33114547\n",
      "  0.24372055 -0.3045221   0.16910046  0.15808296]\n",
      "fc2.weight \n",
      " [[-0.02869887 -0.07112031 -0.19493222  0.21868566 -0.2458707   0.10745908\n",
      "  -0.12879105 -0.15256979  0.05680877 -0.16426672]\n",
      " [-0.00242863  0.06210107 -0.23479578  0.05265146  0.12162821  0.06881932\n",
      "  -0.09831192 -0.2592396  -0.04874781  0.10982832]\n",
      " [ 0.00472087  0.12003407  0.21059588 -0.16511883  0.0164038   0.5628437\n",
      "  -0.29566002  0.02641499  0.0394859  -0.24860173]\n",
      " [ 0.02762344  0.2189782   0.2849572   0.18586317  0.02967489  0.0958497\n",
      "  -0.2628538  -0.26205426 -0.27193093  0.31547192]\n",
      " [ 0.10649756 -0.21858731  0.12372178  0.23880497  0.30291256  0.00336003\n",
      "   0.57199806 -0.07249814 -0.1109775   0.25963846]\n",
      " [ 0.36918682 -0.19029923  0.28429422  0.15278816  0.18604715  0.1551643\n",
      "  -0.47351587 -0.11085758  0.24708661 -0.0569022 ]\n",
      " [ 0.29119015  0.05616894  0.13454485 -0.1074629   0.14093888 -0.81536275\n",
      "   0.33943936 -0.21395713 -0.31197056 -0.25394854]\n",
      " [ 0.3159041   0.17109048  0.29668984  0.25333676 -0.26884082 -0.01565734\n",
      "  -0.5782161  -0.20536852  0.21958748 -0.23907065]\n",
      " [-0.01648318 -0.30550492 -0.17953691  0.2600902   0.27297843  0.5384276\n",
      "   0.75862944  0.28118548 -0.08097422  0.13914087]\n",
      " [ 0.22942121  0.10461408  0.31612542  0.16401562  0.1833696  -0.48187673\n",
      "   0.4448336   0.03633663 -0.07552066 -0.17826071]]\n",
      "fc2.bias \n",
      " [-0.19982247 -0.31866968  0.19542034  0.2261956  -0.04685368 -0.09717364\n",
      "  0.52909374  0.23556791 -0.00172783 -0.08646355]\n",
      "fc3.weight \n",
      " [[ 0.27186245  0.09617631 -0.88826674  0.26760784  0.2856369  -0.3042586\n",
      "   1.0979102  -0.4726559  -0.06086415  0.6573223 ]\n",
      " [ 0.01306626 -0.1411945   0.31525397  0.9757685  -0.2953721   0.4794498\n",
      "   0.359923    0.6115732  -0.8169036  -0.06333303]\n",
      " [ 0.15162715  0.1568617  -0.30932736 -0.05658656 -0.27565962 -0.17818984\n",
      "   0.06400306 -0.2536432   0.07247876  0.22285025]]\n",
      "fc3.bias \n",
      " [ 0.04293665  0.02875138 -0.15086494]\n"
     ]
    }
   ],
   "source": [
    "for param_tensor in model.state_dict():\n",
    "    print(param_tensor, '\\n', model.state_dict()[param_tensor].numpy())"
   ]
  },
  {
   "cell_type": "markdown",
   "id": "3c6e02c5",
   "metadata": {},
   "source": [
    "Evaluate model performance"
   ]
  },
  {
   "cell_type": "code",
   "execution_count": 25,
   "id": "a691f13e",
   "metadata": {},
   "outputs": [
    {
     "data": {
      "image/png": "[encoded data removed]",
      "text/plain": [
       "<Figure size 432x288 with 2 Axes>"
      ]
     },
     "metadata": {
      "needs_background": "light"
     },
     "output_type": "display_data"
    }
   ],
   "source": [
    "#Pytorch doesn't have a built-in confusion matrix metric, so we'll use SciKit-Learn\n",
    "from sklearn.metrics import confusion_matrix\n",
    "import numpy as np\n",
    "\n",
    "# Set the model to evaluate mode\n",
    "model.eval()\n",
    "\n",
    "# Get predictions for the test data\n",
    "x = torch.Tensor(X_test).float()\n",
    "_, predicted = torch.max(model(x).data, 1)\n",
    "\n",
    "# Plot the confusion matrix\n",
    "cm = confusion_matrix(y_test, predicted.numpy())\n",
    "plt.imshow(cm, interpolation=\"nearest\", cmap=plt.cm.Blues)\n",
    "plt.colorbar()\n",
    "tick_marks = np.arange(len(penguin_classes))\n",
    "plt.xticks(tick_marks, penguin_classes, rotation=45)\n",
    "plt.yticks(tick_marks, penguin_classes)\n",
    "plt.xlabel(\"Predicted Species\")\n",
    "plt.ylabel(\"Actual Species\")\n",
    "plt.show()"
   ]
  },
  {
   "cell_type": "markdown",
   "id": "2e3d261d",
   "metadata": {},
   "source": [
    "Save the trained model"
   ]
  },
  {
   "cell_type": "code",
   "execution_count": 26,
   "id": "9c14b3a3",
   "metadata": {},
   "outputs": [
    {
     "name": "stdout",
     "output_type": "stream",
     "text": [
      "model saved as penguin_classifier.pt\n"
     ]
    }
   ],
   "source": [
    "model_file = 'penguin_classifier.pt'\n",
    "torch.save(model.state_dict(), model_file)\n",
    "del model\n",
    "print('model saved as', model_file)"
   ]
  },
  {
   "cell_type": "markdown",
   "id": "2d70c957",
   "metadata": {},
   "source": [
    "Use the trained model"
   ]
  },
  {
   "cell_type": "code",
   "execution_count": 27,
   "id": "da64bf62",
   "metadata": {},
   "outputs": [
    {
     "name": "stdout",
     "output_type": "stream",
     "text": [
      "New sample: [[50.4, 15.3, 20, 50]]\n",
      "Prediction: Gentoo\n"
     ]
    }
   ],
   "source": [
    "# New penguin features\n",
    "x_new = [[50.4,15.3,20,50]]\n",
    "print ('New sample: {}'.format(x_new))\n",
    "\n",
    "# Create a new model class and load weights\n",
    "model = PenguinNet()\n",
    "model.load_state_dict(torch.load(model_file))\n",
    "\n",
    "# Set model to evaluation mode\n",
    "model.eval()\n",
    "\n",
    "# Get a prediction for the new data sample\n",
    "x = torch.Tensor(x_new).float()\n",
    "_, predicted = torch.max(model(x).data, 1)\n",
    "\n",
    "print('Prediction:',penguin_classes[predicted.item()])"
   ]
  }
 ],
 "metadata": {
  "kernelspec": {
   "display_name": "Python 3 (ipykernel)",
   "language": "python",
   "name": "python3"
  },
  "language_info": {
   "codemirror_mode": {
    "name": "ipython",
    "version": 3
   },
   "file_extension": ".py",
   "mimetype": "text/x-python",
   "name": "python",
   "nbconvert_exporter": "python",
   "pygments_lexer": "ipython3",
   "version": "3.9.5"
  }
 },
 "nbformat": 4,
 "nbformat_minor": 5
}
